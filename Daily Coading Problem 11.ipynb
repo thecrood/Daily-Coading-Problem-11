{
 "cells": [
  {
   "cell_type": "markdown",
   "id": "3c83239b",
   "metadata": {},
   "source": [
    "# Daily Coading Problem 11"
   ]
  },
  {
   "cell_type": "markdown",
   "id": "6570ea86",
   "metadata": {},
   "source": [
    "This problem was asked by Twitter.\n",
    "\n",
    "Implement an autocomplete system. That is, given a query string s and a set of all possible query strings, return all strings in the set that have s as a prefix.\n",
    "\n",
    "For example, given the query string de and the set of strings [dog, deer, deal], return [deer, deal].\n",
    "\n",
    "Hint: Try preprocessing the dictionary into a more efficient data structure to speed up queries."
   ]
  },
  {
   "cell_type": "raw",
   "id": "5481d043",
   "metadata": {},
   "source": [
    "The naive solution here is very straightforward: we need to only iterate over the dictionary and check if each word starts with our prefix. If it does, then add it to our set of results and then return it once we're done.\n"
   ]
  },
  {
   "cell_type": "code",
   "execution_count": 2,
   "id": "c7bb6267",
   "metadata": {},
   "outputs": [
    {
     "name": "stdout",
     "output_type": "stream",
     "text": [
      "{'dear', 'deal'}\n"
     ]
    }
   ],
   "source": [
    "words = ['dog', 'dear', 'deal']\n",
    "\n",
    "def autocomplete(s):\n",
    "    results = set()\n",
    "    for word in words:\n",
    "        if word.startswith(s):\n",
    "            results.add(word)\n",
    "    return results\n",
    "print(autocomplete('de'))"
   ]
  },
  {
   "cell_type": "raw",
   "id": "e30281d3",
   "metadata": {},
   "source": [
    "\n",
    "This runs in O(N) time, where N is the number of words in the dictionary. Let's think about making this more efficient. We can preprocess the words, but what data structure would be best for our problem?\n",
    "\n",
    "Alternatively, we could use a tree for this. Not a binary tree, but a tree where each child represents one character of the alphabet. For example, let's say we had the words 'a' and 'dog' in our dictionary. Then the tree would look like this:\n",
    "\n",
    "  x\n",
    " / \\\n",
    "a   d\n",
    "     \\\n",
    "      o\n",
    "       \\\n",
    "        g\n",
    "Then, to find all words beginning with 'do', we could start at the root, go into the 'd' child, and then the 'o', child, and gather up all the words under there. We would also some sort of terminal value to mark whether or not 'do' is actually a word in our dictionary or not. This data structure is known as a trie.\n",
    "\n",
    "So the idea is to preprocess the dictionary into this tree, and then when we search for a prefix, go into the trie and get all the words under that prefix node and return those. While the worst-case runtime would still be O(n) if all the search results have that prefix, if the words are uniformly distributed across the alphabet, it should be much faster on average since we no longer have to evaluate words that don't start with our prefix."
   ]
  },
  {
   "cell_type": "code",
   "execution_count": 3,
   "id": "228bdaf2",
   "metadata": {},
   "outputs": [
    {
     "name": "stdout",
     "output_type": "stream",
     "text": [
      "['dear', 'deal']\n"
     ]
    }
   ],
   "source": [
    "ENDS_HERE = '__ENDS_HERE'\n",
    "\n",
    "class Trie(object):\n",
    "    def __init__(self):\n",
    "        self._trie = {}\n",
    "\n",
    "    def insert(self, text):\n",
    "        trie = self._trie\n",
    "        for char in text:\n",
    "            if char not in trie:\n",
    "                trie[char] = {}\n",
    "            trie = trie[char]\n",
    "        trie[ENDS_HERE] = True\n",
    "\n",
    "    def elements(self, prefix):\n",
    "        d = self._trie\n",
    "        for char in prefix:\n",
    "            if char in d:\n",
    "                d = d[char]\n",
    "            else:\n",
    "                return []\n",
    "        return self._elements(d)\n",
    "\n",
    "    def _elements(self, d):\n",
    "        result = []\n",
    "        for c, v in d.items():\n",
    "            if c == ENDS_HERE:\n",
    "                subresult = ['']\n",
    "            else:\n",
    "                subresult = [c + s for s in self._elements(v)]\n",
    "            result.extend(subresult)\n",
    "        return result\n",
    "\n",
    "trie = Trie()\n",
    "for word in words:\n",
    "    trie.insert(word)\n",
    "\n",
    "def autocomplete(s):\n",
    "    suffixes = trie.elements(s)\n",
    "    return [s + w for w in suffixes]\n",
    "\n",
    "print(autocomplete('de'))"
   ]
  },
  {
   "cell_type": "code",
   "execution_count": null,
   "id": "3bb920c5",
   "metadata": {},
   "outputs": [],
   "source": []
  }
 ],
 "metadata": {
  "kernelspec": {
   "display_name": "Python 3 (ipykernel)",
   "language": "python",
   "name": "python3"
  },
  "language_info": {
   "codemirror_mode": {
    "name": "ipython",
    "version": 3
   },
   "file_extension": ".py",
   "mimetype": "text/x-python",
   "name": "python",
   "nbconvert_exporter": "python",
   "pygments_lexer": "ipython3",
   "version": "3.8.10"
  }
 },
 "nbformat": 4,
 "nbformat_minor": 5
}
